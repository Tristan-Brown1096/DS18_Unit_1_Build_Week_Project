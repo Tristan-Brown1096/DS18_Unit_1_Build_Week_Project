{
  "nbformat": 4,
  "nbformat_minor": 0,
  "metadata": {
    "colab": {
      "name": "unit_1_build_week_project.ipynb",
      "provenance": [],
      "authorship_tag": "ABX9TyPzS59Zk48KHQrgAwNfsmEb",
      "include_colab_link": true
    },
    "kernelspec": {
      "name": "python3",
      "display_name": "Python 3"
    }
  },
  "cells": [
    {
      "cell_type": "markdown",
      "metadata": {
        "id": "view-in-github",
        "colab_type": "text"
      },
      "source": [
        "<a href=\"https://colab.research.google.com/github/Tristan-Brown1096/DS18_Unit_1_Build_Week_Project/blob/master/unit_1_build_week_project.ipynb\" target=\"_parent\"><img src=\"https://colab.research.google.com/assets/colab-badge.svg\" alt=\"Open In Colab\"/></a>"
      ]
    },
    {
      "cell_type": "code",
      "metadata": {
        "id": "I7jbCJq63Tx-",
        "colab_type": "code",
        "colab": {}
      },
      "source": [
        "#importing libraries that will be used\n",
        "import pandas as pd\n",
        "import numpy as np\n",
        "import matplotlib.pyplot as plt\n",
        "from scipy import stats"
      ],
      "execution_count": 1,
      "outputs": []
    },
    {
      "cell_type": "code",
      "metadata": {
        "id": "g6mZ8oqQ3gqR",
        "colab_type": "code",
        "colab": {
          "base_uri": "https://localhost:8080/",
          "height": 204
        },
        "outputId": "866fdd92-1e57-4622-8254-e02918aeb98d"
      },
      "source": [
        "#creating main DataFrame\n",
        "df = pd.read_csv('results.csv')\n",
        "df.head()"
      ],
      "execution_count": 2,
      "outputs": [
        {
          "output_type": "execute_result",
          "data": {
            "text/html": [
              "<div>\n",
              "<style scoped>\n",
              "    .dataframe tbody tr th:only-of-type {\n",
              "        vertical-align: middle;\n",
              "    }\n",
              "\n",
              "    .dataframe tbody tr th {\n",
              "        vertical-align: top;\n",
              "    }\n",
              "\n",
              "    .dataframe thead th {\n",
              "        text-align: right;\n",
              "    }\n",
              "</style>\n",
              "<table border=\"1\" class=\"dataframe\">\n",
              "  <thead>\n",
              "    <tr style=\"text-align: right;\">\n",
              "      <th></th>\n",
              "      <th>date</th>\n",
              "      <th>home_team</th>\n",
              "      <th>away_team</th>\n",
              "      <th>home_score</th>\n",
              "      <th>away_score</th>\n",
              "      <th>tournament</th>\n",
              "      <th>city</th>\n",
              "      <th>country</th>\n",
              "      <th>neutral</th>\n",
              "    </tr>\n",
              "  </thead>\n",
              "  <tbody>\n",
              "    <tr>\n",
              "      <th>0</th>\n",
              "      <td>1872-11-30</td>\n",
              "      <td>Scotland</td>\n",
              "      <td>England</td>\n",
              "      <td>0</td>\n",
              "      <td>0</td>\n",
              "      <td>Friendly</td>\n",
              "      <td>Glasgow</td>\n",
              "      <td>Scotland</td>\n",
              "      <td>False</td>\n",
              "    </tr>\n",
              "    <tr>\n",
              "      <th>1</th>\n",
              "      <td>1873-03-08</td>\n",
              "      <td>England</td>\n",
              "      <td>Scotland</td>\n",
              "      <td>4</td>\n",
              "      <td>2</td>\n",
              "      <td>Friendly</td>\n",
              "      <td>London</td>\n",
              "      <td>England</td>\n",
              "      <td>False</td>\n",
              "    </tr>\n",
              "    <tr>\n",
              "      <th>2</th>\n",
              "      <td>1874-03-07</td>\n",
              "      <td>Scotland</td>\n",
              "      <td>England</td>\n",
              "      <td>2</td>\n",
              "      <td>1</td>\n",
              "      <td>Friendly</td>\n",
              "      <td>Glasgow</td>\n",
              "      <td>Scotland</td>\n",
              "      <td>False</td>\n",
              "    </tr>\n",
              "    <tr>\n",
              "      <th>3</th>\n",
              "      <td>1875-03-06</td>\n",
              "      <td>England</td>\n",
              "      <td>Scotland</td>\n",
              "      <td>2</td>\n",
              "      <td>2</td>\n",
              "      <td>Friendly</td>\n",
              "      <td>London</td>\n",
              "      <td>England</td>\n",
              "      <td>False</td>\n",
              "    </tr>\n",
              "    <tr>\n",
              "      <th>4</th>\n",
              "      <td>1876-03-04</td>\n",
              "      <td>Scotland</td>\n",
              "      <td>England</td>\n",
              "      <td>3</td>\n",
              "      <td>0</td>\n",
              "      <td>Friendly</td>\n",
              "      <td>Glasgow</td>\n",
              "      <td>Scotland</td>\n",
              "      <td>False</td>\n",
              "    </tr>\n",
              "  </tbody>\n",
              "</table>\n",
              "</div>"
            ],
            "text/plain": [
              "         date home_team away_team  ...     city   country neutral\n",
              "0  1872-11-30  Scotland   England  ...  Glasgow  Scotland   False\n",
              "1  1873-03-08   England  Scotland  ...   London   England   False\n",
              "2  1874-03-07  Scotland   England  ...  Glasgow  Scotland   False\n",
              "3  1875-03-06   England  Scotland  ...   London   England   False\n",
              "4  1876-03-04  Scotland   England  ...  Glasgow  Scotland   False\n",
              "\n",
              "[5 rows x 9 columns]"
            ]
          },
          "metadata": {
            "tags": []
          },
          "execution_count": 2
        }
      ]
    },
    {
      "cell_type": "code",
      "metadata": {
        "id": "28KXd0vM3mSJ",
        "colab_type": "code",
        "colab": {
          "base_uri": "https://localhost:8080/",
          "height": 314
        },
        "outputId": "7aa7baa1-23fa-403e-fed7-1fc70f80602a"
      },
      "source": [
        "#checking summary statistics of DataFrame\n",
        "print(df.shape)\n",
        "df.describe()"
      ],
      "execution_count": 3,
      "outputs": [
        {
          "output_type": "stream",
          "text": [
            "(41586, 9)\n"
          ],
          "name": "stdout"
        },
        {
          "output_type": "execute_result",
          "data": {
            "text/html": [
              "<div>\n",
              "<style scoped>\n",
              "    .dataframe tbody tr th:only-of-type {\n",
              "        vertical-align: middle;\n",
              "    }\n",
              "\n",
              "    .dataframe tbody tr th {\n",
              "        vertical-align: top;\n",
              "    }\n",
              "\n",
              "    .dataframe thead th {\n",
              "        text-align: right;\n",
              "    }\n",
              "</style>\n",
              "<table border=\"1\" class=\"dataframe\">\n",
              "  <thead>\n",
              "    <tr style=\"text-align: right;\">\n",
              "      <th></th>\n",
              "      <th>home_score</th>\n",
              "      <th>away_score</th>\n",
              "    </tr>\n",
              "  </thead>\n",
              "  <tbody>\n",
              "    <tr>\n",
              "      <th>count</th>\n",
              "      <td>41586.000000</td>\n",
              "      <td>41586.000000</td>\n",
              "    </tr>\n",
              "    <tr>\n",
              "      <th>mean</th>\n",
              "      <td>1.745756</td>\n",
              "      <td>1.187587</td>\n",
              "    </tr>\n",
              "    <tr>\n",
              "      <th>std</th>\n",
              "      <td>1.753780</td>\n",
              "      <td>1.405323</td>\n",
              "    </tr>\n",
              "    <tr>\n",
              "      <th>min</th>\n",
              "      <td>0.000000</td>\n",
              "      <td>0.000000</td>\n",
              "    </tr>\n",
              "    <tr>\n",
              "      <th>25%</th>\n",
              "      <td>1.000000</td>\n",
              "      <td>0.000000</td>\n",
              "    </tr>\n",
              "    <tr>\n",
              "      <th>50%</th>\n",
              "      <td>1.000000</td>\n",
              "      <td>1.000000</td>\n",
              "    </tr>\n",
              "    <tr>\n",
              "      <th>75%</th>\n",
              "      <td>2.000000</td>\n",
              "      <td>2.000000</td>\n",
              "    </tr>\n",
              "    <tr>\n",
              "      <th>max</th>\n",
              "      <td>31.000000</td>\n",
              "      <td>21.000000</td>\n",
              "    </tr>\n",
              "  </tbody>\n",
              "</table>\n",
              "</div>"
            ],
            "text/plain": [
              "         home_score    away_score\n",
              "count  41586.000000  41586.000000\n",
              "mean       1.745756      1.187587\n",
              "std        1.753780      1.405323\n",
              "min        0.000000      0.000000\n",
              "25%        1.000000      0.000000\n",
              "50%        1.000000      1.000000\n",
              "75%        2.000000      2.000000\n",
              "max       31.000000     21.000000"
            ]
          },
          "metadata": {
            "tags": []
          },
          "execution_count": 3
        }
      ]
    },
    {
      "cell_type": "code",
      "metadata": {
        "id": "7hCxKRgz5vA8",
        "colab_type": "code",
        "colab": {
          "base_uri": "https://localhost:8080/",
          "height": 204
        },
        "outputId": "143bfc4a-db99-435c-9a4f-4d02c70b3513"
      },
      "source": [
        "#adding column with useful additional information\n",
        "df['goal_difference'] = df['home_score'] - df['away_score']\n",
        "df.head()"
      ],
      "execution_count": 4,
      "outputs": [
        {
          "output_type": "execute_result",
          "data": {
            "text/html": [
              "<div>\n",
              "<style scoped>\n",
              "    .dataframe tbody tr th:only-of-type {\n",
              "        vertical-align: middle;\n",
              "    }\n",
              "\n",
              "    .dataframe tbody tr th {\n",
              "        vertical-align: top;\n",
              "    }\n",
              "\n",
              "    .dataframe thead th {\n",
              "        text-align: right;\n",
              "    }\n",
              "</style>\n",
              "<table border=\"1\" class=\"dataframe\">\n",
              "  <thead>\n",
              "    <tr style=\"text-align: right;\">\n",
              "      <th></th>\n",
              "      <th>date</th>\n",
              "      <th>home_team</th>\n",
              "      <th>away_team</th>\n",
              "      <th>home_score</th>\n",
              "      <th>away_score</th>\n",
              "      <th>tournament</th>\n",
              "      <th>city</th>\n",
              "      <th>country</th>\n",
              "      <th>neutral</th>\n",
              "      <th>goal_difference</th>\n",
              "    </tr>\n",
              "  </thead>\n",
              "  <tbody>\n",
              "    <tr>\n",
              "      <th>0</th>\n",
              "      <td>1872-11-30</td>\n",
              "      <td>Scotland</td>\n",
              "      <td>England</td>\n",
              "      <td>0</td>\n",
              "      <td>0</td>\n",
              "      <td>Friendly</td>\n",
              "      <td>Glasgow</td>\n",
              "      <td>Scotland</td>\n",
              "      <td>False</td>\n",
              "      <td>0</td>\n",
              "    </tr>\n",
              "    <tr>\n",
              "      <th>1</th>\n",
              "      <td>1873-03-08</td>\n",
              "      <td>England</td>\n",
              "      <td>Scotland</td>\n",
              "      <td>4</td>\n",
              "      <td>2</td>\n",
              "      <td>Friendly</td>\n",
              "      <td>London</td>\n",
              "      <td>England</td>\n",
              "      <td>False</td>\n",
              "      <td>2</td>\n",
              "    </tr>\n",
              "    <tr>\n",
              "      <th>2</th>\n",
              "      <td>1874-03-07</td>\n",
              "      <td>Scotland</td>\n",
              "      <td>England</td>\n",
              "      <td>2</td>\n",
              "      <td>1</td>\n",
              "      <td>Friendly</td>\n",
              "      <td>Glasgow</td>\n",
              "      <td>Scotland</td>\n",
              "      <td>False</td>\n",
              "      <td>1</td>\n",
              "    </tr>\n",
              "    <tr>\n",
              "      <th>3</th>\n",
              "      <td>1875-03-06</td>\n",
              "      <td>England</td>\n",
              "      <td>Scotland</td>\n",
              "      <td>2</td>\n",
              "      <td>2</td>\n",
              "      <td>Friendly</td>\n",
              "      <td>London</td>\n",
              "      <td>England</td>\n",
              "      <td>False</td>\n",
              "      <td>0</td>\n",
              "    </tr>\n",
              "    <tr>\n",
              "      <th>4</th>\n",
              "      <td>1876-03-04</td>\n",
              "      <td>Scotland</td>\n",
              "      <td>England</td>\n",
              "      <td>3</td>\n",
              "      <td>0</td>\n",
              "      <td>Friendly</td>\n",
              "      <td>Glasgow</td>\n",
              "      <td>Scotland</td>\n",
              "      <td>False</td>\n",
              "      <td>3</td>\n",
              "    </tr>\n",
              "  </tbody>\n",
              "</table>\n",
              "</div>"
            ],
            "text/plain": [
              "         date home_team away_team  ...   country  neutral goal_difference\n",
              "0  1872-11-30  Scotland   England  ...  Scotland    False               0\n",
              "1  1873-03-08   England  Scotland  ...   England    False               2\n",
              "2  1874-03-07  Scotland   England  ...  Scotland    False               1\n",
              "3  1875-03-06   England  Scotland  ...   England    False               0\n",
              "4  1876-03-04  Scotland   England  ...  Scotland    False               3\n",
              "\n",
              "[5 rows x 10 columns]"
            ]
          },
          "metadata": {
            "tags": []
          },
          "execution_count": 4
        }
      ]
    },
    {
      "cell_type": "code",
      "metadata": {
        "id": "BI8y9PDlGFrI",
        "colab_type": "code",
        "colab": {
          "base_uri": "https://localhost:8080/",
          "height": 204
        },
        "outputId": "3917dbc2-fd22-45cd-814d-783d27be984b"
      },
      "source": [
        "df['winning_team'] = np.where(df['home_score'] > df['away_score'], df['home_team'],\n",
        "                              np.where(df['home_score'] < df['away_score'], df['away_team'], 'Tie'))\n",
        "df['losing_team'] = np.where(df['home_score'] > df['away_score'], df['away_team'],\n",
        "                              np.where(df['home_score'] < df['away_score'], df['home_team'], 'Tie'))\n",
        "df.head()"
      ],
      "execution_count": 5,
      "outputs": [
        {
          "output_type": "execute_result",
          "data": {
            "text/html": [
              "<div>\n",
              "<style scoped>\n",
              "    .dataframe tbody tr th:only-of-type {\n",
              "        vertical-align: middle;\n",
              "    }\n",
              "\n",
              "    .dataframe tbody tr th {\n",
              "        vertical-align: top;\n",
              "    }\n",
              "\n",
              "    .dataframe thead th {\n",
              "        text-align: right;\n",
              "    }\n",
              "</style>\n",
              "<table border=\"1\" class=\"dataframe\">\n",
              "  <thead>\n",
              "    <tr style=\"text-align: right;\">\n",
              "      <th></th>\n",
              "      <th>date</th>\n",
              "      <th>home_team</th>\n",
              "      <th>away_team</th>\n",
              "      <th>home_score</th>\n",
              "      <th>away_score</th>\n",
              "      <th>tournament</th>\n",
              "      <th>city</th>\n",
              "      <th>country</th>\n",
              "      <th>neutral</th>\n",
              "      <th>goal_difference</th>\n",
              "      <th>winning_team</th>\n",
              "      <th>losing_team</th>\n",
              "    </tr>\n",
              "  </thead>\n",
              "  <tbody>\n",
              "    <tr>\n",
              "      <th>0</th>\n",
              "      <td>1872-11-30</td>\n",
              "      <td>Scotland</td>\n",
              "      <td>England</td>\n",
              "      <td>0</td>\n",
              "      <td>0</td>\n",
              "      <td>Friendly</td>\n",
              "      <td>Glasgow</td>\n",
              "      <td>Scotland</td>\n",
              "      <td>False</td>\n",
              "      <td>0</td>\n",
              "      <td>Tie</td>\n",
              "      <td>Tie</td>\n",
              "    </tr>\n",
              "    <tr>\n",
              "      <th>1</th>\n",
              "      <td>1873-03-08</td>\n",
              "      <td>England</td>\n",
              "      <td>Scotland</td>\n",
              "      <td>4</td>\n",
              "      <td>2</td>\n",
              "      <td>Friendly</td>\n",
              "      <td>London</td>\n",
              "      <td>England</td>\n",
              "      <td>False</td>\n",
              "      <td>2</td>\n",
              "      <td>England</td>\n",
              "      <td>Scotland</td>\n",
              "    </tr>\n",
              "    <tr>\n",
              "      <th>2</th>\n",
              "      <td>1874-03-07</td>\n",
              "      <td>Scotland</td>\n",
              "      <td>England</td>\n",
              "      <td>2</td>\n",
              "      <td>1</td>\n",
              "      <td>Friendly</td>\n",
              "      <td>Glasgow</td>\n",
              "      <td>Scotland</td>\n",
              "      <td>False</td>\n",
              "      <td>1</td>\n",
              "      <td>Scotland</td>\n",
              "      <td>England</td>\n",
              "    </tr>\n",
              "    <tr>\n",
              "      <th>3</th>\n",
              "      <td>1875-03-06</td>\n",
              "      <td>England</td>\n",
              "      <td>Scotland</td>\n",
              "      <td>2</td>\n",
              "      <td>2</td>\n",
              "      <td>Friendly</td>\n",
              "      <td>London</td>\n",
              "      <td>England</td>\n",
              "      <td>False</td>\n",
              "      <td>0</td>\n",
              "      <td>Tie</td>\n",
              "      <td>Tie</td>\n",
              "    </tr>\n",
              "    <tr>\n",
              "      <th>4</th>\n",
              "      <td>1876-03-04</td>\n",
              "      <td>Scotland</td>\n",
              "      <td>England</td>\n",
              "      <td>3</td>\n",
              "      <td>0</td>\n",
              "      <td>Friendly</td>\n",
              "      <td>Glasgow</td>\n",
              "      <td>Scotland</td>\n",
              "      <td>False</td>\n",
              "      <td>3</td>\n",
              "      <td>Scotland</td>\n",
              "      <td>England</td>\n",
              "    </tr>\n",
              "  </tbody>\n",
              "</table>\n",
              "</div>"
            ],
            "text/plain": [
              "         date home_team away_team  ...  goal_difference  winning_team losing_team\n",
              "0  1872-11-30  Scotland   England  ...                0           Tie         Tie\n",
              "1  1873-03-08   England  Scotland  ...                2       England    Scotland\n",
              "2  1874-03-07  Scotland   England  ...                1      Scotland     England\n",
              "3  1875-03-06   England  Scotland  ...                0           Tie         Tie\n",
              "4  1876-03-04  Scotland   England  ...                3      Scotland     England\n",
              "\n",
              "[5 rows x 12 columns]"
            ]
          },
          "metadata": {
            "tags": []
          },
          "execution_count": 5
        }
      ]
    },
    {
      "cell_type": "code",
      "metadata": {
        "id": "1vij9FYNGvTG",
        "colab_type": "code",
        "colab": {
          "base_uri": "https://localhost:8080/",
          "height": 221
        },
        "outputId": "f4a69113-7407-4224-8dd1-a555ef6893f6"
      },
      "source": [
        "df['winning_team'].value_counts().head(11)"
      ],
      "execution_count": 6,
      "outputs": [
        {
          "output_type": "execute_result",
          "data": {
            "text/plain": [
              "Tie            9578\n",
              "Brazil          625\n",
              "England         572\n",
              "Germany         555\n",
              "Argentina       526\n",
              "Sweden          500\n",
              "South Korea     454\n",
              "Mexico          439\n",
              "Hungary         434\n",
              "Italy           423\n",
              "France          417\n",
              "Name: winning_team, dtype: int64"
            ]
          },
          "metadata": {
            "tags": []
          },
          "execution_count": 6
        }
      ]
    },
    {
      "cell_type": "code",
      "metadata": {
        "id": "w0eTg3o7H1-d",
        "colab_type": "code",
        "colab": {
          "base_uri": "https://localhost:8080/",
          "height": 221
        },
        "outputId": "5282cdb4-82c9-4e2c-9ac3-236eb6bcbf62"
      },
      "source": [
        "df['losing_team'].value_counts().head(11)"
      ],
      "execution_count": 7,
      "outputs": [
        {
          "output_type": "execute_result",
          "data": {
            "text/plain": [
              "Tie                 9578\n",
              "Finland              400\n",
              "Switzerland          344\n",
              "Northern Ireland     332\n",
              "Norway               328\n",
              "Luxembourg           317\n",
              "Chile                310\n",
              "Wales                307\n",
              "Sweden               293\n",
              "Hungary              292\n",
              "Uruguay              286\n",
              "Name: losing_team, dtype: int64"
            ]
          },
          "metadata": {
            "tags": []
          },
          "execution_count": 7
        }
      ]
    },
    {
      "cell_type": "code",
      "metadata": {
        "id": "Kwd-s9s93siw",
        "colab_type": "code",
        "colab": {
          "base_uri": "https://localhost:8080/",
          "height": 204
        },
        "outputId": "0026811b-ec33-433a-a9d1-ffdac4650555"
      },
      "source": [
        "#creating columns to use to divide DataFrame\n",
        "df['home_win'] = np.where(df['home_score'] > df['away_score'], True, False)\n",
        "df['friendly'] = np.where(df['tournament'] == 'Friendly', True, False)\n",
        "df.head()"
      ],
      "execution_count": 8,
      "outputs": [
        {
          "output_type": "execute_result",
          "data": {
            "text/html": [
              "<div>\n",
              "<style scoped>\n",
              "    .dataframe tbody tr th:only-of-type {\n",
              "        vertical-align: middle;\n",
              "    }\n",
              "\n",
              "    .dataframe tbody tr th {\n",
              "        vertical-align: top;\n",
              "    }\n",
              "\n",
              "    .dataframe thead th {\n",
              "        text-align: right;\n",
              "    }\n",
              "</style>\n",
              "<table border=\"1\" class=\"dataframe\">\n",
              "  <thead>\n",
              "    <tr style=\"text-align: right;\">\n",
              "      <th></th>\n",
              "      <th>date</th>\n",
              "      <th>home_team</th>\n",
              "      <th>away_team</th>\n",
              "      <th>home_score</th>\n",
              "      <th>away_score</th>\n",
              "      <th>tournament</th>\n",
              "      <th>city</th>\n",
              "      <th>country</th>\n",
              "      <th>neutral</th>\n",
              "      <th>goal_difference</th>\n",
              "      <th>winning_team</th>\n",
              "      <th>losing_team</th>\n",
              "      <th>home_win</th>\n",
              "      <th>friendly</th>\n",
              "    </tr>\n",
              "  </thead>\n",
              "  <tbody>\n",
              "    <tr>\n",
              "      <th>0</th>\n",
              "      <td>1872-11-30</td>\n",
              "      <td>Scotland</td>\n",
              "      <td>England</td>\n",
              "      <td>0</td>\n",
              "      <td>0</td>\n",
              "      <td>Friendly</td>\n",
              "      <td>Glasgow</td>\n",
              "      <td>Scotland</td>\n",
              "      <td>False</td>\n",
              "      <td>0</td>\n",
              "      <td>Tie</td>\n",
              "      <td>Tie</td>\n",
              "      <td>False</td>\n",
              "      <td>True</td>\n",
              "    </tr>\n",
              "    <tr>\n",
              "      <th>1</th>\n",
              "      <td>1873-03-08</td>\n",
              "      <td>England</td>\n",
              "      <td>Scotland</td>\n",
              "      <td>4</td>\n",
              "      <td>2</td>\n",
              "      <td>Friendly</td>\n",
              "      <td>London</td>\n",
              "      <td>England</td>\n",
              "      <td>False</td>\n",
              "      <td>2</td>\n",
              "      <td>England</td>\n",
              "      <td>Scotland</td>\n",
              "      <td>True</td>\n",
              "      <td>True</td>\n",
              "    </tr>\n",
              "    <tr>\n",
              "      <th>2</th>\n",
              "      <td>1874-03-07</td>\n",
              "      <td>Scotland</td>\n",
              "      <td>England</td>\n",
              "      <td>2</td>\n",
              "      <td>1</td>\n",
              "      <td>Friendly</td>\n",
              "      <td>Glasgow</td>\n",
              "      <td>Scotland</td>\n",
              "      <td>False</td>\n",
              "      <td>1</td>\n",
              "      <td>Scotland</td>\n",
              "      <td>England</td>\n",
              "      <td>True</td>\n",
              "      <td>True</td>\n",
              "    </tr>\n",
              "    <tr>\n",
              "      <th>3</th>\n",
              "      <td>1875-03-06</td>\n",
              "      <td>England</td>\n",
              "      <td>Scotland</td>\n",
              "      <td>2</td>\n",
              "      <td>2</td>\n",
              "      <td>Friendly</td>\n",
              "      <td>London</td>\n",
              "      <td>England</td>\n",
              "      <td>False</td>\n",
              "      <td>0</td>\n",
              "      <td>Tie</td>\n",
              "      <td>Tie</td>\n",
              "      <td>False</td>\n",
              "      <td>True</td>\n",
              "    </tr>\n",
              "    <tr>\n",
              "      <th>4</th>\n",
              "      <td>1876-03-04</td>\n",
              "      <td>Scotland</td>\n",
              "      <td>England</td>\n",
              "      <td>3</td>\n",
              "      <td>0</td>\n",
              "      <td>Friendly</td>\n",
              "      <td>Glasgow</td>\n",
              "      <td>Scotland</td>\n",
              "      <td>False</td>\n",
              "      <td>3</td>\n",
              "      <td>Scotland</td>\n",
              "      <td>England</td>\n",
              "      <td>True</td>\n",
              "      <td>True</td>\n",
              "    </tr>\n",
              "  </tbody>\n",
              "</table>\n",
              "</div>"
            ],
            "text/plain": [
              "         date home_team away_team  ...  losing_team  home_win friendly\n",
              "0  1872-11-30  Scotland   England  ...          Tie     False     True\n",
              "1  1873-03-08   England  Scotland  ...     Scotland      True     True\n",
              "2  1874-03-07  Scotland   England  ...      England      True     True\n",
              "3  1875-03-06   England  Scotland  ...          Tie     False     True\n",
              "4  1876-03-04  Scotland   England  ...      England      True     True\n",
              "\n",
              "[5 rows x 14 columns]"
            ]
          },
          "metadata": {
            "tags": []
          },
          "execution_count": 8
        }
      ]
    },
    {
      "cell_type": "code",
      "metadata": {
        "id": "NePb0c_P4ISw",
        "colab_type": "code",
        "colab": {
          "base_uri": "https://localhost:8080/",
          "height": 204
        },
        "outputId": "728f9173-6f6e-4544-9215-4215bd7d0eee"
      },
      "source": [
        "#creating first subset DataFrame\n",
        "home = df[df['neutral'] == False]\n",
        "home.head()"
      ],
      "execution_count": 9,
      "outputs": [
        {
          "output_type": "execute_result",
          "data": {
            "text/html": [
              "<div>\n",
              "<style scoped>\n",
              "    .dataframe tbody tr th:only-of-type {\n",
              "        vertical-align: middle;\n",
              "    }\n",
              "\n",
              "    .dataframe tbody tr th {\n",
              "        vertical-align: top;\n",
              "    }\n",
              "\n",
              "    .dataframe thead th {\n",
              "        text-align: right;\n",
              "    }\n",
              "</style>\n",
              "<table border=\"1\" class=\"dataframe\">\n",
              "  <thead>\n",
              "    <tr style=\"text-align: right;\">\n",
              "      <th></th>\n",
              "      <th>date</th>\n",
              "      <th>home_team</th>\n",
              "      <th>away_team</th>\n",
              "      <th>home_score</th>\n",
              "      <th>away_score</th>\n",
              "      <th>tournament</th>\n",
              "      <th>city</th>\n",
              "      <th>country</th>\n",
              "      <th>neutral</th>\n",
              "      <th>goal_difference</th>\n",
              "      <th>winning_team</th>\n",
              "      <th>losing_team</th>\n",
              "      <th>home_win</th>\n",
              "      <th>friendly</th>\n",
              "    </tr>\n",
              "  </thead>\n",
              "  <tbody>\n",
              "    <tr>\n",
              "      <th>0</th>\n",
              "      <td>1872-11-30</td>\n",
              "      <td>Scotland</td>\n",
              "      <td>England</td>\n",
              "      <td>0</td>\n",
              "      <td>0</td>\n",
              "      <td>Friendly</td>\n",
              "      <td>Glasgow</td>\n",
              "      <td>Scotland</td>\n",
              "      <td>False</td>\n",
              "      <td>0</td>\n",
              "      <td>Tie</td>\n",
              "      <td>Tie</td>\n",
              "      <td>False</td>\n",
              "      <td>True</td>\n",
              "    </tr>\n",
              "    <tr>\n",
              "      <th>1</th>\n",
              "      <td>1873-03-08</td>\n",
              "      <td>England</td>\n",
              "      <td>Scotland</td>\n",
              "      <td>4</td>\n",
              "      <td>2</td>\n",
              "      <td>Friendly</td>\n",
              "      <td>London</td>\n",
              "      <td>England</td>\n",
              "      <td>False</td>\n",
              "      <td>2</td>\n",
              "      <td>England</td>\n",
              "      <td>Scotland</td>\n",
              "      <td>True</td>\n",
              "      <td>True</td>\n",
              "    </tr>\n",
              "    <tr>\n",
              "      <th>2</th>\n",
              "      <td>1874-03-07</td>\n",
              "      <td>Scotland</td>\n",
              "      <td>England</td>\n",
              "      <td>2</td>\n",
              "      <td>1</td>\n",
              "      <td>Friendly</td>\n",
              "      <td>Glasgow</td>\n",
              "      <td>Scotland</td>\n",
              "      <td>False</td>\n",
              "      <td>1</td>\n",
              "      <td>Scotland</td>\n",
              "      <td>England</td>\n",
              "      <td>True</td>\n",
              "      <td>True</td>\n",
              "    </tr>\n",
              "    <tr>\n",
              "      <th>3</th>\n",
              "      <td>1875-03-06</td>\n",
              "      <td>England</td>\n",
              "      <td>Scotland</td>\n",
              "      <td>2</td>\n",
              "      <td>2</td>\n",
              "      <td>Friendly</td>\n",
              "      <td>London</td>\n",
              "      <td>England</td>\n",
              "      <td>False</td>\n",
              "      <td>0</td>\n",
              "      <td>Tie</td>\n",
              "      <td>Tie</td>\n",
              "      <td>False</td>\n",
              "      <td>True</td>\n",
              "    </tr>\n",
              "    <tr>\n",
              "      <th>4</th>\n",
              "      <td>1876-03-04</td>\n",
              "      <td>Scotland</td>\n",
              "      <td>England</td>\n",
              "      <td>3</td>\n",
              "      <td>0</td>\n",
              "      <td>Friendly</td>\n",
              "      <td>Glasgow</td>\n",
              "      <td>Scotland</td>\n",
              "      <td>False</td>\n",
              "      <td>3</td>\n",
              "      <td>Scotland</td>\n",
              "      <td>England</td>\n",
              "      <td>True</td>\n",
              "      <td>True</td>\n",
              "    </tr>\n",
              "  </tbody>\n",
              "</table>\n",
              "</div>"
            ],
            "text/plain": [
              "         date home_team away_team  ...  losing_team  home_win friendly\n",
              "0  1872-11-30  Scotland   England  ...          Tie     False     True\n",
              "1  1873-03-08   England  Scotland  ...     Scotland      True     True\n",
              "2  1874-03-07  Scotland   England  ...      England      True     True\n",
              "3  1875-03-06   England  Scotland  ...          Tie     False     True\n",
              "4  1876-03-04  Scotland   England  ...      England      True     True\n",
              "\n",
              "[5 rows x 14 columns]"
            ]
          },
          "metadata": {
            "tags": []
          },
          "execution_count": 9
        }
      ]
    },
    {
      "cell_type": "code",
      "metadata": {
        "id": "ft7oxSIq4p9t",
        "colab_type": "code",
        "colab": {
          "base_uri": "https://localhost:8080/",
          "height": 204
        },
        "outputId": "de094d0f-6653-4cfc-d8ca-cd149747ed69"
      },
      "source": [
        "#creating second subset DataFrame to compare\n",
        "neutral = df[df['neutral'] == True]\n",
        "neutral.head()"
      ],
      "execution_count": 10,
      "outputs": [
        {
          "output_type": "execute_result",
          "data": {
            "text/html": [
              "<div>\n",
              "<style scoped>\n",
              "    .dataframe tbody tr th:only-of-type {\n",
              "        vertical-align: middle;\n",
              "    }\n",
              "\n",
              "    .dataframe tbody tr th {\n",
              "        vertical-align: top;\n",
              "    }\n",
              "\n",
              "    .dataframe thead th {\n",
              "        text-align: right;\n",
              "    }\n",
              "</style>\n",
              "<table border=\"1\" class=\"dataframe\">\n",
              "  <thead>\n",
              "    <tr style=\"text-align: right;\">\n",
              "      <th></th>\n",
              "      <th>date</th>\n",
              "      <th>home_team</th>\n",
              "      <th>away_team</th>\n",
              "      <th>home_score</th>\n",
              "      <th>away_score</th>\n",
              "      <th>tournament</th>\n",
              "      <th>city</th>\n",
              "      <th>country</th>\n",
              "      <th>neutral</th>\n",
              "      <th>goal_difference</th>\n",
              "      <th>winning_team</th>\n",
              "      <th>losing_team</th>\n",
              "      <th>home_win</th>\n",
              "      <th>friendly</th>\n",
              "    </tr>\n",
              "  </thead>\n",
              "  <tbody>\n",
              "    <tr>\n",
              "      <th>68</th>\n",
              "      <td>1890-02-08</td>\n",
              "      <td>Wales</td>\n",
              "      <td>Northern Ireland</td>\n",
              "      <td>5</td>\n",
              "      <td>2</td>\n",
              "      <td>British Championship</td>\n",
              "      <td>Shrewsbury</td>\n",
              "      <td>England</td>\n",
              "      <td>True</td>\n",
              "      <td>3</td>\n",
              "      <td>Wales</td>\n",
              "      <td>Northern Ireland</td>\n",
              "      <td>True</td>\n",
              "      <td>False</td>\n",
              "    </tr>\n",
              "    <tr>\n",
              "      <th>264</th>\n",
              "      <td>1910-05-29</td>\n",
              "      <td>Chile</td>\n",
              "      <td>Uruguay</td>\n",
              "      <td>0</td>\n",
              "      <td>3</td>\n",
              "      <td>Friendly</td>\n",
              "      <td>Buenos Aires</td>\n",
              "      <td>Argentina</td>\n",
              "      <td>True</td>\n",
              "      <td>-3</td>\n",
              "      <td>Uruguay</td>\n",
              "      <td>Chile</td>\n",
              "      <td>False</td>\n",
              "      <td>True</td>\n",
              "    </tr>\n",
              "    <tr>\n",
              "      <th>328</th>\n",
              "      <td>1912-07-03</td>\n",
              "      <td>Norway</td>\n",
              "      <td>Russia</td>\n",
              "      <td>2</td>\n",
              "      <td>1</td>\n",
              "      <td>Friendly</td>\n",
              "      <td>Stockholm</td>\n",
              "      <td>Sweden</td>\n",
              "      <td>True</td>\n",
              "      <td>1</td>\n",
              "      <td>Norway</td>\n",
              "      <td>Russia</td>\n",
              "      <td>True</td>\n",
              "      <td>True</td>\n",
              "    </tr>\n",
              "    <tr>\n",
              "      <th>431</th>\n",
              "      <td>1916-07-02</td>\n",
              "      <td>Chile</td>\n",
              "      <td>Uruguay</td>\n",
              "      <td>0</td>\n",
              "      <td>4</td>\n",
              "      <td>Copa América</td>\n",
              "      <td>Buenos Aires</td>\n",
              "      <td>Argentina</td>\n",
              "      <td>True</td>\n",
              "      <td>-4</td>\n",
              "      <td>Uruguay</td>\n",
              "      <td>Chile</td>\n",
              "      <td>False</td>\n",
              "      <td>False</td>\n",
              "    </tr>\n",
              "    <tr>\n",
              "      <th>434</th>\n",
              "      <td>1916-07-08</td>\n",
              "      <td>Brazil</td>\n",
              "      <td>Chile</td>\n",
              "      <td>1</td>\n",
              "      <td>1</td>\n",
              "      <td>Copa América</td>\n",
              "      <td>Buenos Aires</td>\n",
              "      <td>Argentina</td>\n",
              "      <td>True</td>\n",
              "      <td>0</td>\n",
              "      <td>Tie</td>\n",
              "      <td>Tie</td>\n",
              "      <td>False</td>\n",
              "      <td>False</td>\n",
              "    </tr>\n",
              "  </tbody>\n",
              "</table>\n",
              "</div>"
            ],
            "text/plain": [
              "           date home_team  ... home_win  friendly\n",
              "68   1890-02-08     Wales  ...     True     False\n",
              "264  1910-05-29     Chile  ...    False      True\n",
              "328  1912-07-03    Norway  ...     True      True\n",
              "431  1916-07-02     Chile  ...    False     False\n",
              "434  1916-07-08    Brazil  ...    False     False\n",
              "\n",
              "[5 rows x 14 columns]"
            ]
          },
          "metadata": {
            "tags": []
          },
          "execution_count": 10
        }
      ]
    },
    {
      "cell_type": "code",
      "metadata": {
        "id": "pDu1I30I4xgs",
        "colab_type": "code",
        "colab": {
          "base_uri": "https://localhost:8080/",
          "height": 204
        },
        "outputId": "899aee53-6dd6-4eae-b2c3-1a46bc200c8a"
      },
      "source": [
        "#creating third subset DataFrame\n",
        "#separate comparison from first two\n",
        "friendly = df[df['friendly'] == True]\n",
        "friendly.head()"
      ],
      "execution_count": 11,
      "outputs": [
        {
          "output_type": "execute_result",
          "data": {
            "text/html": [
              "<div>\n",
              "<style scoped>\n",
              "    .dataframe tbody tr th:only-of-type {\n",
              "        vertical-align: middle;\n",
              "    }\n",
              "\n",
              "    .dataframe tbody tr th {\n",
              "        vertical-align: top;\n",
              "    }\n",
              "\n",
              "    .dataframe thead th {\n",
              "        text-align: right;\n",
              "    }\n",
              "</style>\n",
              "<table border=\"1\" class=\"dataframe\">\n",
              "  <thead>\n",
              "    <tr style=\"text-align: right;\">\n",
              "      <th></th>\n",
              "      <th>date</th>\n",
              "      <th>home_team</th>\n",
              "      <th>away_team</th>\n",
              "      <th>home_score</th>\n",
              "      <th>away_score</th>\n",
              "      <th>tournament</th>\n",
              "      <th>city</th>\n",
              "      <th>country</th>\n",
              "      <th>neutral</th>\n",
              "      <th>goal_difference</th>\n",
              "      <th>winning_team</th>\n",
              "      <th>losing_team</th>\n",
              "      <th>home_win</th>\n",
              "      <th>friendly</th>\n",
              "    </tr>\n",
              "  </thead>\n",
              "  <tbody>\n",
              "    <tr>\n",
              "      <th>0</th>\n",
              "      <td>1872-11-30</td>\n",
              "      <td>Scotland</td>\n",
              "      <td>England</td>\n",
              "      <td>0</td>\n",
              "      <td>0</td>\n",
              "      <td>Friendly</td>\n",
              "      <td>Glasgow</td>\n",
              "      <td>Scotland</td>\n",
              "      <td>False</td>\n",
              "      <td>0</td>\n",
              "      <td>Tie</td>\n",
              "      <td>Tie</td>\n",
              "      <td>False</td>\n",
              "      <td>True</td>\n",
              "    </tr>\n",
              "    <tr>\n",
              "      <th>1</th>\n",
              "      <td>1873-03-08</td>\n",
              "      <td>England</td>\n",
              "      <td>Scotland</td>\n",
              "      <td>4</td>\n",
              "      <td>2</td>\n",
              "      <td>Friendly</td>\n",
              "      <td>London</td>\n",
              "      <td>England</td>\n",
              "      <td>False</td>\n",
              "      <td>2</td>\n",
              "      <td>England</td>\n",
              "      <td>Scotland</td>\n",
              "      <td>True</td>\n",
              "      <td>True</td>\n",
              "    </tr>\n",
              "    <tr>\n",
              "      <th>2</th>\n",
              "      <td>1874-03-07</td>\n",
              "      <td>Scotland</td>\n",
              "      <td>England</td>\n",
              "      <td>2</td>\n",
              "      <td>1</td>\n",
              "      <td>Friendly</td>\n",
              "      <td>Glasgow</td>\n",
              "      <td>Scotland</td>\n",
              "      <td>False</td>\n",
              "      <td>1</td>\n",
              "      <td>Scotland</td>\n",
              "      <td>England</td>\n",
              "      <td>True</td>\n",
              "      <td>True</td>\n",
              "    </tr>\n",
              "    <tr>\n",
              "      <th>3</th>\n",
              "      <td>1875-03-06</td>\n",
              "      <td>England</td>\n",
              "      <td>Scotland</td>\n",
              "      <td>2</td>\n",
              "      <td>2</td>\n",
              "      <td>Friendly</td>\n",
              "      <td>London</td>\n",
              "      <td>England</td>\n",
              "      <td>False</td>\n",
              "      <td>0</td>\n",
              "      <td>Tie</td>\n",
              "      <td>Tie</td>\n",
              "      <td>False</td>\n",
              "      <td>True</td>\n",
              "    </tr>\n",
              "    <tr>\n",
              "      <th>4</th>\n",
              "      <td>1876-03-04</td>\n",
              "      <td>Scotland</td>\n",
              "      <td>England</td>\n",
              "      <td>3</td>\n",
              "      <td>0</td>\n",
              "      <td>Friendly</td>\n",
              "      <td>Glasgow</td>\n",
              "      <td>Scotland</td>\n",
              "      <td>False</td>\n",
              "      <td>3</td>\n",
              "      <td>Scotland</td>\n",
              "      <td>England</td>\n",
              "      <td>True</td>\n",
              "      <td>True</td>\n",
              "    </tr>\n",
              "  </tbody>\n",
              "</table>\n",
              "</div>"
            ],
            "text/plain": [
              "         date home_team away_team  ...  losing_team  home_win friendly\n",
              "0  1872-11-30  Scotland   England  ...          Tie     False     True\n",
              "1  1873-03-08   England  Scotland  ...     Scotland      True     True\n",
              "2  1874-03-07  Scotland   England  ...      England      True     True\n",
              "3  1875-03-06   England  Scotland  ...          Tie     False     True\n",
              "4  1876-03-04  Scotland   England  ...      England      True     True\n",
              "\n",
              "[5 rows x 14 columns]"
            ]
          },
          "metadata": {
            "tags": []
          },
          "execution_count": 11
        }
      ]
    },
    {
      "cell_type": "code",
      "metadata": {
        "id": "eNbro6Sb4-w6",
        "colab_type": "code",
        "colab": {
          "base_uri": "https://localhost:8080/",
          "height": 204
        },
        "outputId": "0b0520fb-2de3-43ac-8405-d93f44d83622"
      },
      "source": [
        "#creating final subset DataFrame to compare to subset three\n",
        "competitive = df[df['friendly'] == False]\n",
        "competitive.head()"
      ],
      "execution_count": 12,
      "outputs": [
        {
          "output_type": "execute_result",
          "data": {
            "text/html": [
              "<div>\n",
              "<style scoped>\n",
              "    .dataframe tbody tr th:only-of-type {\n",
              "        vertical-align: middle;\n",
              "    }\n",
              "\n",
              "    .dataframe tbody tr th {\n",
              "        vertical-align: top;\n",
              "    }\n",
              "\n",
              "    .dataframe thead th {\n",
              "        text-align: right;\n",
              "    }\n",
              "</style>\n",
              "<table border=\"1\" class=\"dataframe\">\n",
              "  <thead>\n",
              "    <tr style=\"text-align: right;\">\n",
              "      <th></th>\n",
              "      <th>date</th>\n",
              "      <th>home_team</th>\n",
              "      <th>away_team</th>\n",
              "      <th>home_score</th>\n",
              "      <th>away_score</th>\n",
              "      <th>tournament</th>\n",
              "      <th>city</th>\n",
              "      <th>country</th>\n",
              "      <th>neutral</th>\n",
              "      <th>goal_difference</th>\n",
              "      <th>winning_team</th>\n",
              "      <th>losing_team</th>\n",
              "      <th>home_win</th>\n",
              "      <th>friendly</th>\n",
              "    </tr>\n",
              "  </thead>\n",
              "  <tbody>\n",
              "    <tr>\n",
              "      <th>29</th>\n",
              "      <td>1884-01-26</td>\n",
              "      <td>Northern Ireland</td>\n",
              "      <td>Scotland</td>\n",
              "      <td>0</td>\n",
              "      <td>5</td>\n",
              "      <td>British Championship</td>\n",
              "      <td>Belfast</td>\n",
              "      <td>Republic of Ireland</td>\n",
              "      <td>False</td>\n",
              "      <td>-5</td>\n",
              "      <td>Scotland</td>\n",
              "      <td>Northern Ireland</td>\n",
              "      <td>False</td>\n",
              "      <td>False</td>\n",
              "    </tr>\n",
              "    <tr>\n",
              "      <th>30</th>\n",
              "      <td>1884-02-09</td>\n",
              "      <td>Wales</td>\n",
              "      <td>Northern Ireland</td>\n",
              "      <td>6</td>\n",
              "      <td>0</td>\n",
              "      <td>British Championship</td>\n",
              "      <td>Wrexham</td>\n",
              "      <td>Wales</td>\n",
              "      <td>False</td>\n",
              "      <td>6</td>\n",
              "      <td>Wales</td>\n",
              "      <td>Northern Ireland</td>\n",
              "      <td>True</td>\n",
              "      <td>False</td>\n",
              "    </tr>\n",
              "    <tr>\n",
              "      <th>31</th>\n",
              "      <td>1884-02-23</td>\n",
              "      <td>Northern Ireland</td>\n",
              "      <td>England</td>\n",
              "      <td>1</td>\n",
              "      <td>8</td>\n",
              "      <td>British Championship</td>\n",
              "      <td>Belfast</td>\n",
              "      <td>Republic of Ireland</td>\n",
              "      <td>False</td>\n",
              "      <td>-7</td>\n",
              "      <td>England</td>\n",
              "      <td>Northern Ireland</td>\n",
              "      <td>False</td>\n",
              "      <td>False</td>\n",
              "    </tr>\n",
              "    <tr>\n",
              "      <th>32</th>\n",
              "      <td>1884-03-15</td>\n",
              "      <td>Scotland</td>\n",
              "      <td>England</td>\n",
              "      <td>1</td>\n",
              "      <td>0</td>\n",
              "      <td>British Championship</td>\n",
              "      <td>Glasgow</td>\n",
              "      <td>Scotland</td>\n",
              "      <td>False</td>\n",
              "      <td>1</td>\n",
              "      <td>Scotland</td>\n",
              "      <td>England</td>\n",
              "      <td>True</td>\n",
              "      <td>False</td>\n",
              "    </tr>\n",
              "    <tr>\n",
              "      <th>33</th>\n",
              "      <td>1884-03-17</td>\n",
              "      <td>Wales</td>\n",
              "      <td>England</td>\n",
              "      <td>0</td>\n",
              "      <td>4</td>\n",
              "      <td>British Championship</td>\n",
              "      <td>Wrexham</td>\n",
              "      <td>Wales</td>\n",
              "      <td>False</td>\n",
              "      <td>-4</td>\n",
              "      <td>England</td>\n",
              "      <td>Wales</td>\n",
              "      <td>False</td>\n",
              "      <td>False</td>\n",
              "    </tr>\n",
              "  </tbody>\n",
              "</table>\n",
              "</div>"
            ],
            "text/plain": [
              "          date         home_team  ... home_win  friendly\n",
              "29  1884-01-26  Northern Ireland  ...    False     False\n",
              "30  1884-02-09             Wales  ...     True     False\n",
              "31  1884-02-23  Northern Ireland  ...    False     False\n",
              "32  1884-03-15          Scotland  ...     True     False\n",
              "33  1884-03-17             Wales  ...    False     False\n",
              "\n",
              "[5 rows x 14 columns]"
            ]
          },
          "metadata": {
            "tags": []
          },
          "execution_count": 12
        }
      ]
    },
    {
      "cell_type": "code",
      "metadata": {
        "id": "OoP2ZcUiZ-jS",
        "colab_type": "code",
        "colab": {}
      },
      "source": [
        "#defining function for confidence interval\n",
        "def confidence_interval(sample, confidence_level = 0.95):\n",
        "  data = np.array(sample)\n",
        "\n",
        "#standard deviation\n",
        "  s = np.std(data, ddof=1)\n",
        "#observations\n",
        "  n = data.shape[0]\n",
        "#mean\n",
        "  m = np.mean(data)\n",
        "#t-statistic\n",
        "  t = stats.t.ppf((1-((1 - confidence_level) / 2)), n-1)\n",
        "\n",
        "#standard error\n",
        "  se = s / np.sqrt(n)\n",
        "#margin of error\n",
        "  moe  = t * se\n",
        "\n",
        "#upper and lower bounds of the confidence interval\n",
        "  ub = m + moe\n",
        "  lb = m - moe\n",
        "  \n",
        "  return (lb, m, ub, moe)"
      ],
      "execution_count": 13,
      "outputs": []
    },
    {
      "cell_type": "markdown",
      "metadata": {
        "id": "exh8WjRs6kIi",
        "colab_type": "text"
      },
      "source": [
        "##Home Games vs Neutral Games: Win Rate\n",
        "1) Null Hypothesis:\n",
        "\n",
        "$H_0: \\overline{x}_h == \\overline{x}_n$\n",
        "\n",
        "The home team of non-neutral site games wins as often as the home team of a neutral site game.\n",
        "\n",
        "2) Alternative Hypothesis:\n",
        "\n",
        "$H_0: \\overline{x}_h \\neq \\overline{x}_n$\n",
        "\n",
        "There is a significant difference in the win rate of home teams of non-neutral site games and home teams of neutral site games.\n",
        "\n",
        "3) Confidence Interval:\n",
        "\n",
        "95%"
      ]
    },
    {
      "cell_type": "code",
      "metadata": {
        "id": "o9hTwKBR7gYx",
        "colab_type": "code",
        "colab": {
          "base_uri": "https://localhost:8080/",
          "height": 51
        },
        "outputId": "a3831f09-826f-437e-9f9f-4e59c00dc260"
      },
      "source": [
        "ts1, pv1 = stats.ttest_ind(home['home_win'], neutral['home_win'])\n",
        "print('T-statistic:', ts1)\n",
        "print('P-value:', pv1)"
      ],
      "execution_count": 14,
      "outputs": [
        {
          "output_type": "stream",
          "text": [
            "T-statistic: 13.098271622803649\n",
            "P-value: 4.026778134775794e-39\n"
          ],
          "name": "stdout"
        }
      ]
    },
    {
      "cell_type": "markdown",
      "metadata": {
        "id": "x5vdWofq73Br",
        "colab_type": "text"
      },
      "source": [
        "4) Conclusion:\n",
        "\n",
        "Based on a t-statistic of 13.098 and a p-value of 4.027e-39, we can reject the null hypothesis and suggest the alternative hypothesis that teams playing at home are significantly more likely to win than the designated home team of a neutral site game."
      ]
    },
    {
      "cell_type": "code",
      "metadata": {
        "id": "upt2paKsaf2A",
        "colab_type": "code",
        "colab": {
          "base_uri": "https://localhost:8080/",
          "height": 289
        },
        "outputId": "950534e0-ccc4-41c9-d7a6-caee0b2d2bbb"
      },
      "source": [
        "ci1 = confidence_interval(home['home_win'])\n",
        "ci2 = confidence_interval(neutral['home_win'])\n",
        "\n",
        "fig, ax = plt.subplots()\n",
        "\n",
        "plt.style.use('ggplot')\n",
        "\n",
        "plt.bar(0, height=ci1[1], yerr=ci1[3], color='g')\n",
        "plt.bar(1, height=ci2[1], yerr=ci2[3], color='y')\n",
        "\n",
        "ax.set_yticklabels([0, 10, 20, 30, 40, '50%'])\n",
        "ax.set_xticks([0, 1])\n",
        "ax.set_xticklabels(['Home', 'Neutral'], fontsize=12, fontweight='bold')\n",
        "\n",
        "fig.set_facecolor('lightgrey')\n",
        "\n",
        "ax.set_title('Home Team Win Percentage', fontsize=20, fontweight='bold')\n",
        "\n",
        "plt.show()"
      ],
      "execution_count": 15,
      "outputs": [
        {
          "output_type": "display_data",
          "data": {
            "image/png": "[encoded data removed]",
            "text/plain": [
              "<Figure size 432x288 with 1 Axes>"
            ]
          },
          "metadata": {
            "tags": []
          }
        }
      ]
    },
    {
      "cell_type": "markdown",
      "metadata": {
        "id": "kFEzFYYuAUTq",
        "colab_type": "text"
      },
      "source": [
        "##Home Games vs Neutral Games: Goals Scored\n",
        "1) Null Hypothesis:\n",
        "\n",
        "$H_0: \\overline{x}_h == \\overline{x}_n$\n",
        "\n",
        "The home team of non-neutral site games scores a similar number of goals as the home team of a neutral site game.\n",
        "\n",
        "2) Alternative Hypothesis:\n",
        "\n",
        "$H_0: \\overline{x}_h \\neq \\overline{x}_n$\n",
        "\n",
        "There is a significant difference in the number of goals scored by home teams of non-neutral site games and home teams of neutral site games.\n",
        "\n",
        "3) Confidence Interval:\n",
        "\n",
        "95%"
      ]
    },
    {
      "cell_type": "code",
      "metadata": {
        "id": "ygkawBJtAoqf",
        "colab_type": "code",
        "colab": {
          "base_uri": "https://localhost:8080/",
          "height": 51
        },
        "outputId": "5b699e25-1b7f-4001-f6dc-26e3b7f8aa81"
      },
      "source": [
        "ts2, pv2 = stats.ttest_ind(home['home_score'], neutral['home_score'])\n",
        "print('T-statistic:', ts2)\n",
        "print('P-value:', pv2)"
      ],
      "execution_count": 16,
      "outputs": [
        {
          "output_type": "stream",
          "text": [
            "T-statistic: 6.600400232422407\n",
            "P-value: 4.149666047962466e-11\n"
          ],
          "name": "stdout"
        }
      ]
    },
    {
      "cell_type": "markdown",
      "metadata": {
        "id": "kBxueD0ZA4LX",
        "colab_type": "text"
      },
      "source": [
        "4) Conclusion:\n",
        "\n",
        "Based on a t-statistic of 6.60 and a p-value of 4.15e-11, we can reject the null hypothesis and suggest the alternative that teams playing at home score significantly more goals than the designated home team of a neutral site game."
      ]
    },
    {
      "cell_type": "markdown",
      "metadata": {
        "id": "4B7mQXAN8XRV",
        "colab_type": "text"
      },
      "source": [
        "##Home Games vs Neutral Games: Goal Difference\n",
        "1) Null Hypothesis:\n",
        "\n",
        "$H_0: \\overline{x}_h == \\overline{x}_n$\n",
        "\n",
        "The home team of non-neutral site games wins by a similar margin as the home team of a neutral site game.\n",
        "\n",
        "2) Alternative Hypothesis:\n",
        "\n",
        "$H_0: \\overline{x}_h \\neq \\overline{x}_n$\n",
        "\n",
        "There is a significant difference in the winning margin of home teams of non-neutral site games and home teams of neutral site games.\n",
        "\n",
        "3) Confidence Interval:\n",
        "\n",
        "95%"
      ]
    },
    {
      "cell_type": "code",
      "metadata": {
        "id": "xWMEz7u-8zV_",
        "colab_type": "code",
        "colab": {
          "base_uri": "https://localhost:8080/",
          "height": 51
        },
        "outputId": "1b57b876-203e-4ea0-b5db-c2a6ff99eda1"
      },
      "source": [
        "ts3, pv3 = stats.ttest_ind(home['goal_difference'], neutral['goal_difference'])\n",
        "print('T-statistic:', ts3)\n",
        "print('P-value:', pv3)"
      ],
      "execution_count": 17,
      "outputs": [
        {
          "output_type": "stream",
          "text": [
            "T-statistic: 15.057529652735301\n",
            "P-value: 4.203223568467029e-51\n"
          ],
          "name": "stdout"
        }
      ]
    },
    {
      "cell_type": "markdown",
      "metadata": {
        "id": "cIIy4bHI9BUy",
        "colab_type": "text"
      },
      "source": [
        "4) Conclusion:\n",
        "\n",
        "Based on a t-statistic of 15.06 and a p-value of 4.20e-51, we can reject the null hypothesis and suggest the alternative hypothesis that teams playing at home win by a significantly larger margin than the designated home team of a neutral site game."
      ]
    },
    {
      "cell_type": "code",
      "metadata": {
        "id": "KsfvIwOmey-G",
        "colab_type": "code",
        "colab": {
          "base_uri": "https://localhost:8080/",
          "height": 289
        },
        "outputId": "d9f8d288-e9cb-4a94-b595-597f55189ae1"
      },
      "source": [
        "ci3 = confidence_interval(home['goal_difference'])\n",
        "ci4 = confidence_interval(neutral['goal_difference'])\n",
        "\n",
        "fig, ax = plt.subplots()\n",
        "\n",
        "plt.style.use('ggplot')\n",
        "\n",
        "plt.bar(0, height=ci3[1], yerr=ci3[3], color='g')\n",
        "plt.bar(1, height=ci4[1], yerr=ci4[3], color='y')\n",
        "\n",
        "ax.set_xticks([0, 1])\n",
        "ax.set_xticklabels(['Home', 'Neutral'], fontsize=12, fontweight='bold')\n",
        "\n",
        "fig.set_facecolor('lightgrey')\n",
        "\n",
        "ax.set_title('Home Team Goal Differential', Fontsize=20, fontweight='bold')\n",
        "\n",
        "plt.show()"
      ],
      "execution_count": 18,
      "outputs": [
        {
          "output_type": "display_data",
          "data": {
            "image/png": "[encoded data removed]",
            "text/plain": [
              "<Figure size 432x288 with 1 Axes>"
            ]
          },
          "metadata": {
            "tags": []
          }
        }
      ]
    },
    {
      "cell_type": "code",
      "metadata": {
        "id": "occok2N19gvi",
        "colab_type": "code",
        "colab": {
          "base_uri": "https://localhost:8080/",
          "height": 308
        },
        "outputId": "066f38a6-c6e3-4241-fba3-677491f8519b"
      },
      "source": [
        "#graphing differences in goals scored vs goals allowed of neutral and non-neutral site games\n",
        "fig, ax = plt.subplots()\n",
        "\n",
        "plt.style.use('ggplot')\n",
        "\n",
        "plt.scatter(home['away_score'], home['home_score'], alpha=0.05, c='g', label='Home Games')\n",
        "plt.scatter(neutral['away_score'], neutral['home_score'], alpha=0.05, c='y', label='Neutral Games')\n",
        "\n",
        "xpoints = ypoints = ax.get_xlim()\n",
        "ax.plot(xpoints, ypoints, linestyle='--', color='k', lw=3, scalex=False, scaley=False)\n",
        "\n",
        "ax.set_yticklabels([-5, 0, 5, 10, 15, 20, 25, 30], fontsize=12)\n",
        "ax.set_ylabel('Goals Scored', fontsize=15)\n",
        "\n",
        "ax.set_xticklabels([-5, 0, 5, 10, 15, 20], fontsize=12)\n",
        "ax.set_xlabel('Goals Allowed', fontsize=15)\n",
        "\n",
        "fig.set_facecolor('lightgrey')\n",
        "\n",
        "legend = plt.legend(loc='upper right')\n",
        "for handle in legend.legendHandles:\n",
        "  handle.set_alpha(1)\n",
        "\n",
        "ax.spines['right'].set_visible(False)\n",
        "ax.spines['top'].set_visible(False)\n",
        "\n",
        "ax.set_title('Goals Scored vs Goals Allowed by Home Team', fontsize=20, fontweight='bold')\n",
        "ax.text(-2, -7, 'Above line = win', fontsize=15, fontweight='bold')\n",
        "\n",
        "plt.show()"
      ],
      "execution_count": 19,
      "outputs": [
        {
          "output_type": "display_data",
          "data": {
            "image/png": "[encoded data removed]",
            "text/plain": [
              "<Figure size 432x288 with 1 Axes>"
            ]
          },
          "metadata": {
            "tags": []
          }
        }
      ]
    },
    {
      "cell_type": "markdown",
      "metadata": {
        "id": "IgsvVAr6_ipr",
        "colab_type": "text"
      },
      "source": [
        "##Competitive Games vs Friendly Games: Win Rate\n",
        "\n",
        "1)1) Null Hypothesis:\n",
        "\n",
        "$H_0: \\overline{x}_c == \\overline{x}_f$\n",
        "\n",
        "The home team of competitive games wins as often as the home team of a friendly game.\n",
        "\n",
        "2) Alternative Hypothesis:\n",
        "\n",
        "$H_0: \\overline{x}_c \\neq \\overline{x}_f$\n",
        "\n",
        "There is a significant difference in the win rate of home teams of competitive  games and home teams of friendly games.\n",
        "\n",
        "3) Confidence Interval:\n",
        "\n",
        "95%"
      ]
    },
    {
      "cell_type": "code",
      "metadata": {
        "id": "macp5lvuAGEF",
        "colab_type": "code",
        "colab": {
          "base_uri": "https://localhost:8080/",
          "height": 51
        },
        "outputId": "aa1196f0-80ac-43a3-8eeb-680f8e1667d5"
      },
      "source": [
        "ts4, pv4 = stats.ttest_ind(competitive['home_win'], friendly['home_win'])\n",
        "print('T-statistic:', ts4)\n",
        "print('P-value', pv4)"
      ],
      "execution_count": 20,
      "outputs": [
        {
          "output_type": "stream",
          "text": [
            "T-statistic: 5.600318747017765\n",
            "P-value 2.1530654684075605e-08\n"
          ],
          "name": "stdout"
        }
      ]
    },
    {
      "cell_type": "markdown",
      "metadata": {
        "id": "5-3i8uboBnAV",
        "colab_type": "text"
      },
      "source": [
        "4) Conclusion:\n",
        "\n",
        "Based on a t-statistic of 5.60 and a p-value of 2.15e-8, we can reject the null hypothesis and suggest the alternative that home teams of competitive games are significantly more likely to win than home team of friendly games."
      ]
    },
    {
      "cell_type": "markdown",
      "metadata": {
        "id": "ZC2vJCzLB6ZJ",
        "colab_type": "text"
      },
      "source": [
        "##Competitive Games vs Friendly Games: Goals Scored\n",
        "1) Null Hypothesis:\n",
        "\n",
        "$H_0: \\overline{x}_c == \\overline{x}_f$\n",
        "\n",
        "The home team of competitive games scores a similar number of goals as the home team of friendly games.\n",
        "\n",
        "2) Alternative Hypothesis:\n",
        "\n",
        "$H_0: \\overline{x}_c \\neq \\overline{x}_f$\n",
        "\n",
        "There is a significant difference in the number of goals scored by home teams of competitive games and home teams of friendly games.\n",
        "\n",
        "3) Confidence Interval:\n",
        "\n",
        "95%"
      ]
    },
    {
      "cell_type": "code",
      "metadata": {
        "id": "RlCrTd4tCjae",
        "colab_type": "code",
        "colab": {
          "base_uri": "https://localhost:8080/",
          "height": 51
        },
        "outputId": "c9f35041-4735-48f2-e6f8-9911faffc023"
      },
      "source": [
        "ts5, pv5 = stats.ttest_ind(competitive['home_score'], friendly['home_score'])\n",
        "print('T-statistic:', ts5)\n",
        "print('P-value:', pv5)"
      ],
      "execution_count": 21,
      "outputs": [
        {
          "output_type": "stream",
          "text": [
            "T-statistic: 5.0022473892706545\n",
            "P-value: 5.689627874533348e-07\n"
          ],
          "name": "stdout"
        }
      ]
    },
    {
      "cell_type": "markdown",
      "metadata": {
        "id": "7C5K3zX0CzN9",
        "colab_type": "text"
      },
      "source": [
        "4) Conclusion:\n",
        "\n",
        "Based on a t-statistic of 5.00 and a p-value of 5.69e-7, we can reject the null hypothesis and suggest the altervative that home teams of competitive games score significantly more goals than home teams of friendly games."
      ]
    },
    {
      "cell_type": "code",
      "metadata": {
        "id": "XZP_tXoyfIl6",
        "colab_type": "code",
        "colab": {
          "base_uri": "https://localhost:8080/",
          "height": 286
        },
        "outputId": "c14d68d6-df18-4089-ea68-4a6c470e9f63"
      },
      "source": [
        "ci5 = confidence_interval(competitive['home_score'])\n",
        "ci6 = confidence_interval(friendly['home_score'])\n",
        "\n",
        "fig, ax = plt.subplots()\n",
        "\n",
        "plt.style.use('ggplot')\n",
        "\n",
        "plt.bar(0, height=ci5[1], yerr=ci5[3], color='b')\n",
        "plt.bar(1, height=ci6[1], yerr=ci6[3], color='r')\n",
        "\n",
        "ax.set_xticks([0, 1])\n",
        "ax.set_xticklabels(['competitive', 'Friendly'], fontsize=12, fontweight='bold')\n",
        "\n",
        "ax.set_title('Goals Scored by Home Team', fontsize=15, fontweight='bold')\n",
        "\n",
        "fig.set_facecolor('lightgrey')\n",
        "\n",
        "plt.show()"
      ],
      "execution_count": 25,
      "outputs": [
        {
          "output_type": "display_data",
          "data": {
            "image/png": "[encoded data removed]",
            "text/plain": [
              "<Figure size 432x288 with 1 Axes>"
            ]
          },
          "metadata": {
            "tags": []
          }
        }
      ]
    },
    {
      "cell_type": "markdown",
      "metadata": {
        "id": "U1ENTmjgDi0a",
        "colab_type": "text"
      },
      "source": [
        "##Competitive Games vs Friendly Games: Goal Difference\n",
        "1) Null Hypothesis:\n",
        "\n",
        "$H_0: \\overline{x}_c == \\overline{x}_f$\n",
        "\n",
        "The home team of competitive games wins by a similar margin as the home team of friendly games.\n",
        "\n",
        "2) Alternative Hypothesis:\n",
        "\n",
        "$H_0: \\overline{x}_c \\neq \\overline{x}_f$\n",
        "\n",
        "There is a significant difference in the winning margin of home teams of competitive games and home teams of friendly games.\n",
        "\n",
        "3) Confidence Interval:\n",
        "\n",
        "95%"
      ]
    },
    {
      "cell_type": "code",
      "metadata": {
        "id": "bpCmt8L_D2YH",
        "colab_type": "code",
        "colab": {
          "base_uri": "https://localhost:8080/",
          "height": 51
        },
        "outputId": "83242204-71ff-4394-dddd-de1a405e0387"
      },
      "source": [
        "ts6, pv6 = stats.ttest_ind(competitive['goal_difference'], friendly['goal_difference'])\n",
        "print('T-statistic:', ts6)\n",
        "print('P-value:', pv6)"
      ],
      "execution_count": 23,
      "outputs": [
        {
          "output_type": "stream",
          "text": [
            "T-statistic: 4.875155429114991\n",
            "P-value: 1.0912320863740004e-06\n"
          ],
          "name": "stdout"
        }
      ]
    },
    {
      "cell_type": "markdown",
      "metadata": {
        "id": "cnLuEdypEHHa",
        "colab_type": "text"
      },
      "source": [
        "4) Conclusion:\n",
        "Based on a t-statistic of 4.88 and a p-value of 1.09e-6, we can reject the null hypothesis and suggest the alternative that home teams of competitive games win by a significantly larger margin than home teams of friendly games."
      ]
    },
    {
      "cell_type": "code",
      "metadata": {
        "id": "diw_qj-FEZ5X",
        "colab_type": "code",
        "colab": {
          "base_uri": "https://localhost:8080/",
          "height": 308
        },
        "outputId": "488c97d2-3677-426b-bc51-4e9e0c48b1b3"
      },
      "source": [
        "#graphing differences in goals scored vs goals allowed of competitive and friendly games\n",
        "fig, ax = plt.subplots()\n",
        "\n",
        "plt.scatter(competitive['away_score'], competitive['home_score'], alpha=0.05, c='b', label='Competitive Games')\n",
        "plt.scatter(friendly['away_score'], friendly['home_score'], alpha=0.05, c='r', label='Friendly Games')\n",
        "\n",
        "xpoints = ypoints = ax.get_xlim()\n",
        "ax.plot(xpoints, ypoints, linestyle='--', color='k', lw=3, scalex=False, scaley=False)\n",
        "\n",
        "ax.set_yticklabels([-5, 0, 5, 10, 15, 20, 25, 30], fontsize=12)\n",
        "ax.set_ylabel('Goals Scored', fontsize=15)\n",
        "\n",
        "ax.set_xticklabels([-5, 0, 5, 10, 15, 20], fontsize=12)\n",
        "ax.set_xlabel('Goals Allowed', fontsize=15)\n",
        "\n",
        "fig.set_facecolor('lightgrey')\n",
        "\n",
        "legend = plt.legend(loc='upper right')\n",
        "for handle in legend.legendHandles:\n",
        "  handle.set_alpha(1)\n",
        "\n",
        "ax.spines['right'].set_visible(False)\n",
        "ax.spines['top'].set_visible(False)\n",
        "\n",
        "ax.set_title('Goals Scored vs Goals Allowed by Home Team', fontsize=20, fontweight='bold')\n",
        "ax.text(-5, -7, 'Above line = win', fontsize=15, fontweight='bold')\n",
        "\n",
        "plt.show()"
      ],
      "execution_count": 24,
      "outputs": [
        {
          "output_type": "display_data",
          "data": {
            "image/png": "[encoded data removed]",
            "text/plain": [
              "<Figure size 432x288 with 1 Axes>"
            ]
          },
          "metadata": {
            "tags": []
          }
        }
      ]
    }
  ]
}